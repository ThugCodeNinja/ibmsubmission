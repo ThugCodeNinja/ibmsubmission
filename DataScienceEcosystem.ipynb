{
 "cells": [
  {
   "cell_type": "markdown",
   "id": "2712e1cc-2377-4af9-94ce-931fe744d3cf",
   "metadata": {},
   "source": [
    "# Data Science Tools and Ecosystem\n",
    "    "
   ]
  },
  {
   "cell_type": "markdown",
   "id": "056fe436-5d4f-4b9d-8611-e0c4a8d00bbd",
   "metadata": {},
   "source": [
    "In this notebook, Data Science Tools and Ecosystem are summarized."
   ]
  },
  {
   "cell_type": "markdown",
   "id": "2e505ce4-c178-43a4-ba0a-ab178ff1ef7f",
   "metadata": {},
   "source": [
    "Some of the popular languages that Data Scientists use are:\n",
    "1. Python\n",
    "2. R\n",
    "3. Julia\n",
    "4. Java\n",
    "\n",
    "    \n"
   ]
  },
  {
   "cell_type": "markdown",
   "id": "4cc2ee6a-f123-44fe-b351-0b7b2e8cd300",
   "metadata": {},
   "source": [
    "Some of the commonly used libraries used by Data Scientists include:\n",
    "1. Pandas\n",
    "2. Numpy\n",
    "3. Matplotlib\n",
    "4. Seaborn"
   ]
  },
  {
   "cell_type": "markdown",
   "id": "98bf8b92-5200-4dcd-8375-0134d7dca893",
   "metadata": {},
   "source": [
    "<table>\n",
    "    <th>\n",
    "      Data Science Tools  \n",
    "    </th>\n",
    "    <tr><td>Jupyter Notebook </td></tr>\n",
    "    <tr><td>RStudio</td></tr>\n",
    "     <tr><td>Anaconda</td></tr>\n",
    "</table>\n",
    "    "
   ]
  },
  {
   "cell_type": "markdown",
   "id": "b8980134-7543-4d08-9df7-a35b9ab5866a",
   "metadata": {},
   "source": [
    "### Below are a few examples of evaluating arithmetic expressions in Python"
   ]
  },
  {
   "cell_type": "code",
   "execution_count": 3,
   "id": "67ee11e5-96c8-4e80-90b7-2cab9c7dda7f",
   "metadata": {
    "tags": []
   },
   "outputs": [
    {
     "data": {
      "text/plain": [
       "17"
      ]
     },
     "execution_count": 3,
     "metadata": {},
     "output_type": "execute_result"
    }
   ],
   "source": [
    "# This a simple arithmetic expression to mutiply then add integers\n",
    "(3*4)+5"
   ]
  },
  {
   "cell_type": "code",
   "execution_count": 11,
   "id": "ff8910f9-edb9-430c-9afb-d22e551d0c12",
   "metadata": {
    "tags": []
   },
   "outputs": [
    {
     "data": {
      "text/plain": [
       "3.3333333333333335"
      ]
     },
     "execution_count": 11,
     "metadata": {},
     "output_type": "execute_result"
    }
   ],
   "source": [
    "#  This will convert 200 minutes to hours by diving by 60\n",
    "(200/60)"
   ]
  },
  {
   "cell_type": "markdown",
   "id": "50142e57-c77e-4e1a-a1e7-84879319ac2a",
   "metadata": {},
   "source": [
    "<b> Objectives:<b>\n",
    "<p>List popular languages for Data Science:<p>\n",
    "    <ul>\n",
    "        <li>Python</li>\n",
    "        <li>R</li>\n",
    "        <li>Julia</li>\n",
    "        <li>Java</li>\n",
    "    </ul>"
   ]
  },
  {
   "cell_type": "markdown",
   "id": "d92f14a3-3d2d-4fde-9309-0c5649aceb2a",
   "metadata": {},
   "source": [
    "## Author:\n",
    "<p> Rutam Ri"
   ]
  }
 ],
 "metadata": {
  "kernelspec": {
   "display_name": "Python",
   "language": "python",
   "name": "conda-env-python-py"
  },
  "language_info": {
   "codemirror_mode": {
    "name": "ipython",
    "version": 3
   },
   "file_extension": ".py",
   "mimetype": "text/x-python",
   "name": "python",
   "nbconvert_exporter": "python",
   "pygments_lexer": "ipython3",
   "version": "3.7.12"
  }
 },
 "nbformat": 4,
 "nbformat_minor": 5
}
